{
 "cells": [
  {
   "cell_type": "markdown",
   "metadata": {},
   "source": [
    "# 2. Introduction to online deep learning and *deep-river*"
   ]
  },
  {
   "cell_type": "markdown",
   "metadata": {},
   "source": [
    "## a) How do deep learning models follow the online learning Requirements? (5 min) "
   ]
  },
  {
   "cell_type": "markdown",
   "metadata": {},
   "source": [
    "## b) How do we cover all machine learning tasks from River with deep learning models? (15 min) \n",
    "\n",
    "`deep-river` provides wrapper classes that provide an interface to the `River` API for all major machine learning tasks\n",
    "\n",
    "* Supervised\n",
    "    + Classification &rarr; `classification`\n",
    "        - Structured Data &rarr; `Classifier`\n",
    "        - Time Series     &rarr; `RollingClassifier`\n",
    "    + Regression &rarr; `regression`\n",
    "        - Structured Data &rarr; `Regressor`\n",
    "        - Time Series     &rarr; `RollingRegressor`\n",
    "* Unsupervised\n",
    "    + [Anomaly Detection](./Part 2 - Introduction to Deep River/anomaly_detection.ipynb) &rarr; `Autoencoder`\n",
    "    + Clustering &rarr; `To be implemented`\n"
   ]
  },
  {
   "cell_type": "markdown",
   "metadata": {},
   "source": [
    "## c)  A brief introduction into the deep learning extension and the framework. (20 min)\n",
    "\n",
    "1. How does `deep-river` follow the `River` design principles? (10 min)\n",
    "2. How is *PyTorch* integrated into the `River` API? (10 min)"
   ]
  },
  {
   "cell_type": "markdown",
   "metadata": {},
   "source": [
    "## d) Chances and pitfalls of online deep learning (50 min)\n",
    "\n",
    "1. [To what extent does architecture influence model performance? From now-casting to forecasting in online deep learning.](./sections/bike-sharing-forecasting.ipynb) (10 min)\n",
    "2. [How does the integration of PyTorch influence the models' throughput?](./sections/pytorch_throughput.ipynb) (10 min)\n",
    "3. [Do GPUs increase the throughput of deep online learning models?](./sections/gpu_vs_cpu.ipynb) (30 min)"
   ]
  }
 ],
 "metadata": {
  "kernelspec": {
   "display_name": "Python 3 (ipykernel)",
   "language": "python",
   "name": "python3"
  },
  "language_info": {
   "codemirror_mode": {
    "name": "ipython",
    "version": 3
   },
   "file_extension": ".py",
   "mimetype": "text/x-python",
   "name": "python",
   "nbconvert_exporter": "python",
   "pygments_lexer": "ipython3",
   "version": "3.11.5"
  }
 },
 "nbformat": 4,
 "nbformat_minor": 4
}
