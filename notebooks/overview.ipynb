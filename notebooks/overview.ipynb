{
 "cells": [
  {
   "cell_type": "markdown",
   "metadata": {},
   "source": [
    "# 2. Introduction to online deep learning and *deep-river*"
   ]
  },
  {
   "cell_type": "markdown",
   "metadata": {},
   "source": [
    "## a) How do deep learning models follow the online learning Requirements? (5 min) "
   ]
  },
  {
   "cell_type": "markdown",
   "metadata": {},
   "source": [
    "## b) How do we cover all machine learning tasks from River with deep learning models? (15 min) \n",
    "\n",
    "* Supervised\n",
    "    + Classification\n",
    "    + Regression\n",
    "    + Time Series Forecasting\n",
    "* Unsupervised\n",
    "    + [Anomaly Detection](./sections/anomaly_detection.ipynb)\n",
    "    + Clustering\n"
   ]
  },
  {
   "cell_type": "markdown",
   "metadata": {},
   "source": [
    "## c)  A brief introduction into the deep learning extension and the framework. (20 min)\n",
    "\n",
    "1. How does *deep-river* follow the *River* design principles? (10 min)\n",
    "2. How is *PyTorch* integrated into the *River* API? (10 min)"
   ]
  },
  {
   "cell_type": "markdown",
   "metadata": {},
   "source": [
    "## d) Chances and pitfalls of online deep learning (50 min)\n",
    "\n",
    "1. [To what extent does architecture influence model performance? From now-casting to forecasting in online deep learning.](./sections/bike-sharing-forecasting.ipynb) (10 min)\n",
    "2. [How does the integration of PyTorch influence the models' throughput?](./sections/pytorch_throughput.ipynb) (10 min)\n",
    "3. [Do GPUs increase the throughput of deep online learning models?](./sections/gpu_vs_cpu.ipynb) (30 min)"
   ]
  }
 ],
 "metadata": {
  "kernelspec": {
   "display_name": "deepriver",
   "language": "python",
   "name": "python3"
  },
  "language_info": {
   "codemirror_mode": {
    "name": "ipython",
    "version": 3
   },
   "file_extension": ".py",
   "mimetype": "text/x-python",
   "name": "python",
   "nbconvert_exporter": "python",
   "pygments_lexer": "ipython3",
   "version": "3.10.12"
  },
  "orig_nbformat": 4
 },
 "nbformat": 4,
 "nbformat_minor": 2
}
