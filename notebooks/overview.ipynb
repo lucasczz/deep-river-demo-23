{
 "cells": [
  {
   "cell_type": "code",
   "execution_count": 72,
   "metadata": {},
   "outputs": [
    {
     "name": "stdout",
     "output_type": "stream",
     "text": [
      "Requirement already satisfied: numpy in /home/cazzonelli/miniconda3/envs/deepriver/lib/python3.10/site-packages (1.24.4)\n",
      "Requirement already satisfied: river in /home/cazzonelli/miniconda3/envs/deepriver/lib/python3.10/site-packages (0.17.0)\n",
      "Requirement already satisfied: scikit-learn in /home/cazzonelli/miniconda3/envs/deepriver/lib/python3.10/site-packages (1.0.2)\n",
      "Requirement already satisfied: tqdm in /home/cazzonelli/miniconda3/envs/deepriver/lib/python3.10/site-packages (4.61.2)\n",
      "Requirement already satisfied: pandas in /home/cazzonelli/miniconda3/envs/deepriver/lib/python3.10/site-packages (1.3.5)\n",
      "Requirement already satisfied: scipy>=1.5 in /home/cazzonelli/miniconda3/envs/deepriver/lib/python3.10/site-packages (from river) (1.11.2)\n",
      "Requirement already satisfied: deep-river in /home/cazzonelli/miniconda3/envs/deepriver/lib/python3.10/site-packages (from river) (0.2.4)\n",
      "Requirement already satisfied: joblib>=0.11 in /home/cazzonelli/miniconda3/envs/deepriver/lib/python3.10/site-packages (from scikit-learn) (1.3.2)\n",
      "Requirement already satisfied: threadpoolctl>=2.0.0 in /home/cazzonelli/miniconda3/envs/deepriver/lib/python3.10/site-packages (from scikit-learn) (3.2.0)\n",
      "Requirement already satisfied: python-dateutil>=2.7.3 in /home/cazzonelli/miniconda3/envs/deepriver/lib/python3.10/site-packages (from pandas) (2.8.2)\n",
      "Requirement already satisfied: pytz>=2017.3 in /home/cazzonelli/miniconda3/envs/deepriver/lib/python3.10/site-packages (from pandas) (2023.3)\n",
      "Requirement already satisfied: six>=1.5 in /home/cazzonelli/miniconda3/envs/deepriver/lib/python3.10/site-packages (from python-dateutil>=2.7.3->pandas) (1.16.0)\n",
      "Requirement already satisfied: torch~=1.13.0 in /home/cazzonelli/miniconda3/envs/deepriver/lib/python3.10/site-packages (from deep-river->river) (1.13.1)\n",
      "Requirement already satisfied: ordered-set~=4.1.0 in /home/cazzonelli/miniconda3/envs/deepriver/lib/python3.10/site-packages (from deep-river->river) (4.1.0)\n",
      "Requirement already satisfied: torchviz~=0.0.2 in /home/cazzonelli/miniconda3/envs/deepriver/lib/python3.10/site-packages (from deep-river->river) (0.0.2)\n",
      "Requirement already satisfied: typing-extensions in /home/cazzonelli/miniconda3/envs/deepriver/lib/python3.10/site-packages (from torch~=1.13.0->deep-river->river) (4.7.1)\n",
      "Requirement already satisfied: nvidia-cuda-runtime-cu11==11.7.99 in /home/cazzonelli/miniconda3/envs/deepriver/lib/python3.10/site-packages (from torch~=1.13.0->deep-river->river) (11.7.99)\n",
      "Requirement already satisfied: nvidia-cudnn-cu11==8.5.0.96 in /home/cazzonelli/miniconda3/envs/deepriver/lib/python3.10/site-packages (from torch~=1.13.0->deep-river->river) (8.5.0.96)\n",
      "Requirement already satisfied: nvidia-cublas-cu11==11.10.3.66 in /home/cazzonelli/miniconda3/envs/deepriver/lib/python3.10/site-packages (from torch~=1.13.0->deep-river->river) (11.10.3.66)\n",
      "Requirement already satisfied: nvidia-cuda-nvrtc-cu11==11.7.99 in /home/cazzonelli/miniconda3/envs/deepriver/lib/python3.10/site-packages (from torch~=1.13.0->deep-river->river) (11.7.99)\n",
      "Requirement already satisfied: setuptools in /home/cazzonelli/miniconda3/envs/deepriver/lib/python3.10/site-packages (from nvidia-cublas-cu11==11.10.3.66->torch~=1.13.0->deep-river->river) (68.0.0)\n",
      "Requirement already satisfied: wheel in /home/cazzonelli/miniconda3/envs/deepriver/lib/python3.10/site-packages (from nvidia-cublas-cu11==11.10.3.66->torch~=1.13.0->deep-river->river) (0.38.4)\n",
      "Requirement already satisfied: graphviz in /home/cazzonelli/miniconda3/envs/deepriver/lib/python3.10/site-packages (from torchviz~=0.0.2->deep-river->river) (0.20.1)\n"
     ]
    }
   ],
   "source": [
    "import sys\n",
    "!{sys.executable} -m pip install numpy river river[deep] scikit-learn tqdm pandas"
   ]
  },
  {
   "cell_type": "markdown",
   "metadata": {},
   "source": [
    "## 2a) How do deep learning models follow the online learning Requirements? (5 min) "
   ]
  },
  {
   "cell_type": "markdown",
   "metadata": {},
   "source": [
    "## 2b) How do we cover all machine learning tasks from River with deep learning models? (15 min) \n",
    "\n",
    "### Machine Learning Tasks in River\n",
    "\n",
    "* Supervised\n",
    "    + Classification\n",
    "    + Regression\n",
    "    + Time Series Forecasting\n",
    "* Unsupervised\n",
    "    + [Anomaly Detection](./sections/anomaly_detection.ipynb)\n",
    "    + Clustering\n"
   ]
  },
  {
   "cell_type": "markdown",
   "metadata": {},
   "source": [
    "## 2c)  A brief introduction into the deep learning extension and the framework.\n",
    "\n",
    "1. How does *deep-river* follow the *River* design principles?\n",
    "2. How is *PyTorch* integrated into the *River* API?"
   ]
  },
  {
   "cell_type": "markdown",
   "metadata": {},
   "source": [
    "## 2d) Chances and pitfalls of online deep learning\n",
    "\n",
    "1. To what extent does architecture influence model performance? From now-casting to forecasting in online deep learning.\n",
    "2. [How does the integration of PyTorch influence the models' throughput?](./sections/pytorch_throughput.ipynb)\n",
    "3. [Do GPUs increase the throughput of deep online learning models?](./sections/gpu_vs_cpu.ipynb)"
   ]
  }
 ],
 "metadata": {
  "kernelspec": {
   "display_name": "deepriver",
   "language": "python",
   "name": "python3"
  },
  "language_info": {
   "codemirror_mode": {
    "name": "ipython",
    "version": 3
   },
   "file_extension": ".py",
   "mimetype": "text/x-python",
   "name": "python",
   "nbconvert_exporter": "python",
   "pygments_lexer": "ipython3",
   "version": "3.10.12"
  },
  "orig_nbformat": 4
 },
 "nbformat": 4,
 "nbformat_minor": 2
}
