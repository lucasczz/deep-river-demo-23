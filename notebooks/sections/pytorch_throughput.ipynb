{
 "cells": [
  {
   "cell_type": "markdown",
   "metadata": {},
   "source": [
    "## How efficient is online learning with PyTorch?\n",
    "\n",
    "* PyTorch offers enables arbitrary network architectures and optimization procedures\n",
    "* How much overhead does PyTorch introduce in online learning?\n",
    "\n",
    "Test: Benchmark of softmax regression with *deep-river* and base *River* "
   ]
  },
  {
   "cell_type": "code",
   "execution_count": 6,
   "metadata": {},
   "outputs": [],
   "source": [
    "# Imports \n",
    "from river import compose, preprocessing, metrics, datasets, linear_model, optim\n",
    "from tqdm import tqdm \n",
    "from deep_river.classification import Classifier\n",
    "from time import time\n",
    "from torch import nn\n",
    "from utils import seed_everything\n",
    "import torch\n"
   ]
  },
  {
   "cell_type": "code",
   "execution_count": 7,
   "metadata": {},
   "outputs": [],
   "source": [
    "def run_test_train(model, data):\n",
    "    metric = metrics.Accuracy()\n",
    "\n",
    "    start = time()\n",
    "    for x, y in tqdm(data):\n",
    "        # Predict and train on current instance\n",
    "        pred = model.predict_one(x)\n",
    "        model.learn_one(x, y)\n",
    "        # Record results\n",
    "        metric.update(y, pred)\n",
    "\n",
    "    print(\"\\nRuntime: {:.2f} Seconds\".format(time() - start))\n",
    "    print(\"Accuracy: {:.2%}\".format(metric.get()))"
   ]
  },
  {
   "cell_type": "code",
   "execution_count": 8,
   "metadata": {},
   "outputs": [
    {
     "name": "stderr",
     "output_type": "stream",
     "text": [
      "  9%|▊         | 851/10000 [00:00<00:01, 8506.82it/s]"
     ]
    },
    {
     "name": "stderr",
     "output_type": "stream",
     "text": [
      "100%|██████████| 10000/10000 [00:01<00:00, 8618.69it/s]"
     ]
    },
    {
     "name": "stdout",
     "output_type": "stream",
     "text": [
      "\n",
      "Runtime: 1.16 Seconds\n",
      "Accuracy: 67.89%\n"
     ]
    },
    {
     "name": "stderr",
     "output_type": "stream",
     "text": [
      "\n"
     ]
    }
   ],
   "source": [
    "# Create classification pipeline\n",
    "model = linear_model.SoftmaxRegression(\n",
    "    optimizer=optim.SGD(lr=0.25), loss=optim.losses.CrossEntropy()\n",
    ")\n",
    "\n",
    "data = list(datasets.Insects().take(10_000))\n",
    "\n",
    "run_test_train(model, data)"
   ]
  },
  {
   "cell_type": "code",
   "execution_count": 9,
   "metadata": {},
   "outputs": [
    {
     "name": "stderr",
     "output_type": "stream",
     "text": [
      "100%|██████████| 10000/10000 [00:02<00:00, 3896.76it/s]"
     ]
    },
    {
     "name": "stdout",
     "output_type": "stream",
     "text": [
      "\n",
      "Runtime: 2.57 Seconds\n",
      "Accuracy: 66.18%\n"
     ]
    },
    {
     "name": "stderr",
     "output_type": "stream",
     "text": [
      "\n"
     ]
    }
   ],
   "source": [
    "# Define softmax regression PyTorch module\n",
    "class SoftmaxNet(nn.Module):\n",
    "    def __init__(self, n_features) -> None:\n",
    "        super().__init__()\n",
    "        self.linear = nn.Linear(n_features, 6)\n",
    "\n",
    "    def forward(self, x):\n",
    "        return self.linear(x)\n",
    "\n",
    "# Create classification model\n",
    "model = Classifier(module=SoftmaxNet, lr=2, output_is_logit=True)\n",
    "\n",
    "run_test_train(model, data)"
   ]
  },
  {
   "cell_type": "markdown",
   "metadata": {},
   "source": [
    "* Softmax regression in *deep-river* runs slower than in base *River*\n",
    "* Reasons \n",
    "  + dictionary &rarr; tensor conversions required for river compatibility\n",
    "  + overhead inherent to PyTorch "
   ]
  },
  {
   "cell_type": "code",
   "execution_count": 10,
   "metadata": {},
   "outputs": [
    {
     "name": "stderr",
     "output_type": "stream",
     "text": [
      "  0%|          | 0/10000 [00:00<?, ?it/s]"
     ]
    },
    {
     "name": "stderr",
     "output_type": "stream",
     "text": [
      "100%|██████████| 10000/10000 [00:01<00:00, 5335.57it/s]"
     ]
    },
    {
     "name": "stdout",
     "output_type": "stream",
     "text": [
      "\n",
      "Runtime: 1.93 Seconds\n",
      "Accuracy: 65.76%\n"
     ]
    },
    {
     "name": "stderr",
     "output_type": "stream",
     "text": [
      "\n"
     ]
    }
   ],
   "source": [
    "from torch.optim import SGD\n",
    "import torch.nn.functional as F\n",
    "from sklearn.preprocessing import LabelEncoder\n",
    "\n",
    "data = list(datasets.Insects().take(10_000))\n",
    "x = torch.tensor([list(sample.values()) for sample, _ in data])\n",
    "y = LabelEncoder().fit_transform([label for _, label in data])\n",
    "y = F.one_hot(torch.tensor(y)).type(torch.float)\n",
    "\n",
    "model = SoftmaxNet(n_features=x.shape[-1])\n",
    "optimizer = SGD(model.parameters(), lr=1)\n",
    "metric = metrics.Accuracy()\n",
    "start = time()\n",
    "for xi, yi in tqdm(zip(x, y), total=10_000):\n",
    "    with torch.inference_mode():\n",
    "        pred = model(xi).argmax()\n",
    "\n",
    "    metric.update(yi.argmax().item(), pred.item())\n",
    "    logits = model(xi)\n",
    "    loss = F.binary_cross_entropy_with_logits(logits, yi)\n",
    "\n",
    "    loss.backward()\n",
    "    optimizer.step()\n",
    "    optimizer.zero_grad()\n",
    "\n",
    "print(\"\\nRuntime: {:.2f} Seconds\".format(time() - start))\n",
    "print(\"Accuracy: {:.2%}\".format(metric.get()))"
   ]
  }
 ],
 "metadata": {
  "kernelspec": {
   "display_name": "deepriver",
   "language": "python",
   "name": "python3"
  },
  "language_info": {
   "codemirror_mode": {
    "name": "ipython",
    "version": 3
   },
   "file_extension": ".py",
   "mimetype": "text/x-python",
   "name": "python",
   "nbconvert_exporter": "python",
   "pygments_lexer": "ipython3",
   "version": "3.10.12"
  },
  "orig_nbformat": 4
 },
 "nbformat": 4,
 "nbformat_minor": 2
}
