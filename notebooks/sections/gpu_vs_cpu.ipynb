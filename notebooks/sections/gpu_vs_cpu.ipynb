{
 "cells": [
  {
   "cell_type": "markdown",
   "metadata": {
    "editable": true,
    "slideshow": {
     "slide_type": "slide"
    },
    "tags": []
   },
   "source": [
    "## GPU Usage in Online Deep Learning\n",
    "\n",
    "GPUs: \n",
    "* allow high degree of parallelization &rarr; yield significant speed-up over CPUs \n",
    "* are main contributors to the success of (batch) deep learning \n",
    "\n",
    "How useful are GPUs in online deep learning? "
   ]
  },
  {
   "cell_type": "code",
   "execution_count": 3,
   "metadata": {
    "slideshow": {
     "slide_type": "skip"
    }
   },
   "outputs": [],
   "source": [
    "# Imports and util functions\n",
    "import pandas as pd\n",
    "import torch\n",
    "from itertools import product\n",
    "from torch import nn\n",
    "from time import time\n",
    "from tqdm import tqdm\n",
    "from deep_river.classification import Classifier\n",
    "from river import compose, preprocessing, datasets, metrics\n",
    "import matplotlib.pyplot as plt\n",
    "\n",
    "from utils import seed_everything\n",
    "\n",
    "\n",
    "class StreamBuffer:\n",
    "    def __init__(self, size=8) -> None:\n",
    "        self.xs = []\n",
    "        self.ys = []\n",
    "        self.size = size\n",
    "        self.current_size = 0\n",
    "        self.is_full = False\n",
    "\n",
    "    def append(self, x: dict, y: int = None):\n",
    "        self.xs.append(list(x.values()))\n",
    "        self.ys.append(y)\n",
    "        if len(self.ys) == self.size:\n",
    "            self.is_full = True\n",
    "\n",
    "    def get(self):\n",
    "        self.is_full = False\n",
    "        result = pd.DataFrame.from_records(self.xs), pd.Series(self.ys)\n",
    "        self.xs.clear()\n",
    "        self.ys.clear()\n",
    "        return result\n",
    "\n",
    "\n",
    "# Load dataset define PyTorch module etc.\n",
    "n_samples = 10_000\n",
    "data = list(datasets.Insects(variant=\"abrupt_balanced\").take(n_samples))\n",
    "\n",
    "seed_everything(42)\n",
    "\n",
    "# Define PyTorch module\n",
    "class MyMLP(nn.Module):\n",
    "    def __init__(self, n_features, hidden_units=64, hidden_layers=2):\n",
    "        super().__init__()\n",
    "        self.linear1 = nn.Linear(n_features, hidden_units)\n",
    "        self.hiddens = nn.ModuleList(\n",
    "            [nn.Linear(hidden_units, hidden_units)] * (hidden_layers - 1)\n",
    "        )\n",
    "        self.linear3 = nn.Linear(hidden_units, 6)\n",
    "\n",
    "    def forward(self, X, **kwargs):\n",
    "        z = torch.relu(self.linear1(X))\n",
    "        for layer in self.hiddens:\n",
    "            z = torch.relu(layer(z))\n",
    "        return torch.softmax(self.linear3(z), dim=-1)"
   ]
  },
  {
   "cell_type": "code",
   "execution_count": 4,
   "metadata": {
    "slideshow": {
     "slide_type": "fragment"
    }
   },
   "outputs": [
    {
     "name": "stdout",
     "output_type": "stream",
     "text": [
      "CUDA is available.\n",
      "GPU: NVIDIA GeForce RTX 3090\n"
     ]
    }
   ],
   "source": [
    "# Check if GPU is available\n",
    "if torch.cuda.is_available():\n",
    "    print(\"CUDA is available.\")\n",
    "    print(\"GPU:\", torch.cuda.get_device_name(0))\n",
    "    # Set device to use to GPU with index 0\n",
    "    dev = \"cuda:0\"\n",
    "else:\n",
    "    print(\"CUDA is not available.\")\n",
    "    dev = \"cpu\""
   ]
  },
  {
   "cell_type": "code",
   "execution_count": 5,
   "metadata": {
    "slideshow": {
     "slide_type": "fragment"
    }
   },
   "outputs": [
    {
     "name": "stderr",
     "output_type": "stream",
     "text": [
      "100%|██████████| 10000/10000 [00:11<00:00, 893.68it/s]"
     ]
    },
    {
     "name": "stdout",
     "output_type": "stream",
     "text": [
      "\n",
      "GPU Runtime: 11.20 Seconds\n"
     ]
    },
    {
     "name": "stderr",
     "output_type": "stream",
     "text": [
      "\n"
     ]
    }
   ],
   "source": [
    "# Create classification model\n",
    "model = Classifier(module=MyMLP, lr=0.5, device=dev)\n",
    "\n",
    "metric = metrics.Accuracy()\n",
    "\n",
    "start = time()\n",
    "# Run anomaly detection model using GPU (if available)\n",
    "for x, y in tqdm(data):\n",
    "    # Predict and train on current instance\n",
    "    pred = model.predict_one(x)\n",
    "    model.learn_one(x, y)\n",
    "    # Record results\n",
    "    metric.update(y, pred)\n",
    "\n",
    "print(\"\\nGPU Runtime: {:.2f} Seconds\".format(time() - start))"
   ]
  },
  {
   "cell_type": "code",
   "execution_count": 6,
   "metadata": {
    "slideshow": {
     "slide_type": "fragment"
    },
    "tags": []
   },
   "outputs": [
    {
     "name": "stderr",
     "output_type": "stream",
     "text": [
      "100%|██████████| 10000/10000 [00:04<00:00, 2105.41it/s]"
     ]
    },
    {
     "name": "stdout",
     "output_type": "stream",
     "text": [
      "\n",
      "CPU Runtime: 4.75 Seconds\n"
     ]
    },
    {
     "name": "stderr",
     "output_type": "stream",
     "text": [
      "\n"
     ]
    }
   ],
   "source": [
    "# Create anomaly detection pipeline\n",
    "model = Classifier(module=MyMLP, lr=0.5, device=\"cpu\")\n",
    "\n",
    "metric = metrics.Accuracy()\n",
    "\n",
    "start = time()\n",
    "# Run anomaly detection pipeline using GPU (if available)\n",
    "for x, y in tqdm(data):\n",
    "    # Predict and train on current instance\n",
    "    pred = model.predict_one(x)\n",
    "    model.learn_one(x, y)\n",
    "    # Record results\n",
    "    metric.update(y, pred)\n",
    "\n",
    "print(\"\\nCPU Runtime: {:.2f} Seconds\".format(time() - start))"
   ]
  },
  {
   "cell_type": "markdown",
   "metadata": {
    "slideshow": {
     "slide_type": "slide"
    }
   },
   "source": [
    "* The pipeline runs significantly faster on the CPU! \n",
    "* Why? \n",
    "    + Small Network\n",
    "    + Batch Size = 1 \n",
    "* &rarr; Very little parallelism\n",
    "* What happens if we increase the batch size by buffering training instances? "
   ]
  },
  {
   "cell_type": "code",
   "execution_count": 7,
   "metadata": {
    "slideshow": {
     "slide_type": "slide"
    }
   },
   "outputs": [
    {
     "name": "stderr",
     "output_type": "stream",
     "text": [
      "100%|██████████| 10000/10000 [00:01<00:00, 5171.30it/s]\n"
     ]
    },
    {
     "name": "stdout",
     "output_type": "stream",
     "text": [
      "CPU Runtime: 1.94 Seconds \n",
      "\n"
     ]
    },
    {
     "name": "stderr",
     "output_type": "stream",
     "text": [
      "100%|██████████| 10000/10000 [00:03<00:00, 2802.97it/s]"
     ]
    },
    {
     "name": "stdout",
     "output_type": "stream",
     "text": [
      "\n",
      "GPU Runtime: 3.57 Seconds\n"
     ]
    },
    {
     "name": "stderr",
     "output_type": "stream",
     "text": [
      "\n"
     ]
    }
   ],
   "source": [
    "# Implement function to train\n",
    "def run_batch_wise(batch_size, device, verbose=True):\n",
    "    # Add a buffer storing samples until desired batch size is reached\n",
    "    buffer = StreamBuffer(size=batch_size)\n",
    "    model = Classifier(\n",
    "        module=MyMLP, lr=0.5, device=device\n",
    "    )  # TODO: Remove this for \"hands-on\" blank text?\n",
    "    metric = metrics.Accuracy()\n",
    "\n",
    "    start = time()\n",
    "    iterator = tqdm(data) if verbose else data\n",
    "    for x, y in iterator:\n",
    "        pred = model.predict_one(\n",
    "            x\n",
    "        )  # TODO: Remove this for \"hands-on\" blank text?\n",
    "        metric.update(y, pred)\n",
    "\n",
    "        # Store samples in buffer\n",
    "        buffer.append(x, y)\n",
    "\n",
    "        # Perform updates once buffer is full\n",
    "        if buffer.is_full:\n",
    "            x_batch, y_batch = buffer.get()\n",
    "            model.learn_many(\n",
    "                x_batch, y_batch\n",
    "            )  # TODO: Remove this for \"hands-on\" blank text?\n",
    "\n",
    "    return metric.get(), time() - start\n",
    "\n",
    "\n",
    "accuracy, runtime = run_batch_wise(batch_size=8, device=\"cpu\")\n",
    "print(\"CPU Runtime: {:.2f} Seconds \\n\".format(runtime))\n",
    "accuracy, runtime = run_batch_wise(batch_size=8, device=dev)\n",
    "print(\"\\nGPU Runtime: {:.2f} Seconds\".format(runtime))"
   ]
  },
  {
   "cell_type": "markdown",
   "metadata": {
    "slideshow": {
     "slide_type": "fragment"
    }
   },
   "source": [
    "* The GPU still yields no increase in execution speed. \n",
    "* How large does the batch size have to get for the GPU to be preferable? "
   ]
  },
  {
   "cell_type": "code",
   "execution_count": 8,
   "metadata": {
    "slideshow": {
     "slide_type": "slide"
    }
   },
   "outputs": [
    {
     "data": {
      "image/png": "[encoded data removed]",
      "text/plain": [
       "<Figure size 600x300 with 1 Axes>"
      ]
     },
     "metadata": {},
     "output_type": "display_data"
    }
   ],
   "source": [
    "batch_sizes = [2**i for i in range(6)]\n",
    "results = []\n",
    "for dev in [\"cpu\", \"cuda:0\"]:\n",
    "    dname = \"GPU\" if dev == \"cuda:0\" else \"CPU\"\n",
    "    for batch_size in batch_sizes:\n",
    "        accuracy, runtime = run_batch_wise(batch_size, dev, verbose=False)\n",
    "        results.append(\n",
    "            {\n",
    "                \"runtime\": runtime,\n",
    "                \"accuracy\": accuracy,\n",
    "                \"device\": dname,\n",
    "                \"batch_size\": batch_size,\n",
    "            }\n",
    "        )\n",
    "\n",
    "\n",
    "df = pd.DataFrame(results)\n",
    "fig, ax = plt.subplots(figsize=(6, 3))\n",
    "colors = {\"CPU\": \"#F3841D\", \"GPU\": \"#286BC8\"}\n",
    "for dev, dfd in df.groupby(\"device\"):\n",
    "    ax.plot(dfd[\"batch_size\"], dfd[\"runtime\"], label=dev, c=colors[dev])\n",
    "ax.set_xlabel(\"Batch Size\")\n",
    "ax.set_ylabel(\"Runtime [s]\")\n",
    "net_widths = df[\"batch_size\"].unique()\n",
    "ax.set_xscale(\"log\", base=2)\n",
    "ax.set_xticks(net_widths)\n",
    "ax.set_xticklabels(net_widths)\n",
    "l = ax.legend()"
   ]
  },
  {
   "cell_type": "markdown",
   "metadata": {
    "slideshow": {
     "slide_type": "fragment"
    }
   },
   "source": [
    "* GPU training is bottlenecked by data transfer between System and GPU memory\n",
    "* CPU remains faster even at relatively large batch sizes\n",
    "* What about larger neural nets?\n",
    "* How large must the network be to run faster on the GPU?"
   ]
  },
  {
   "cell_type": "code",
   "execution_count": 9,
   "metadata": {
    "slideshow": {
     "slide_type": "slide"
    }
   },
   "outputs": [
    {
     "data": {
      "image/png": "[encoded data removed]",
      "text/plain": [
       "<Figure size 600x300 with 1 Axes>"
      ]
     },
     "metadata": {},
     "output_type": "display_data"
    }
   ],
   "source": [
    "# Test runtime for increasingly wider MLPs with one or two hidden layers:\n",
    "results = []\n",
    "configs = product([1, 2], [2**i for i in range(6, 11)], [\"cpu\", \"cuda:0\"])\n",
    "for net_depth, net_width, dev in list(configs):\n",
    "    dname = \"GPU\" if dev == \"cuda:0\" else \"CPU\"\n",
    "    model = Classifier(\n",
    "        module=MyMLP,\n",
    "        lr=0.5,\n",
    "        device=dev,\n",
    "        hidden_units=net_width,\n",
    "        hidden_layers=net_depth,\n",
    "    )\n",
    "    metric = metrics.Accuracy()\n",
    "\n",
    "    start = time()\n",
    "\n",
    "    # Run network using GPU (if available)\n",
    "    for x, y in data:\n",
    "        # Predict and train on current instance\n",
    "        pred = model.predict_one(x)\n",
    "        model.learn_one(x, y)\n",
    "        # Record results\n",
    "        metric.update(y, pred)\n",
    "    results.append(\n",
    "        {\n",
    "            \"runtime\": time() - start,\n",
    "            \"accuracy\": metric.get(),\n",
    "            \"device\": dname,\n",
    "            \"hidden_units\": net_width,\n",
    "            \"hidden_layers\": net_depth,\n",
    "        }\n",
    "    )\n",
    "\n",
    "df = pd.DataFrame(results)\n",
    "df = df.sort_values(by=\"hidden_units\")\n",
    "fig, ax = plt.subplots(figsize=(6, 3))\n",
    "colors = {1: \"#F3841D\", 2: \"#286BC8\"}\n",
    "styles = {\"CPU\": \"dashed\", \"GPU\": \"solid\"}\n",
    "for (hidden_layers, dev), dfd in df.groupby([\"hidden_layers\", \"device\"]):\n",
    "    ax.plot(\n",
    "        dfd[\"hidden_units\"],\n",
    "        dfd[\"runtime\"],\n",
    "        label=f\"{hidden_layers} layers, {dev}\",\n",
    "        c=colors[hidden_layers],\n",
    "        linestyle=styles[dev],\n",
    "    )\n",
    "ax.set_xlabel(\"Hidden Units\")\n",
    "ax.set_ylabel(\"Runtime [s]\")\n",
    "net_widths = df[\"hidden_units\"].unique()\n",
    "ax.set_xscale(\"log\", base=2)\n",
    "ax.set_xticks(net_widths)\n",
    "ax.set_xticklabels(net_widths)\n",
    "l = ax.legend()"
   ]
  },
  {
   "cell_type": "markdown",
   "metadata": {
    "slideshow": {
     "slide_type": "slide"
    }
   },
   "source": [
    "* Difficult to reach parameter count where GPU is faster with only one hidden layer\n",
    "* GPU yields better runtime for wide network with two hidden layers\n",
    "* In batch learning: larger model &rarr; better performance &rarr; GPUs are mandatory\n",
    "* Is the same true in online deep learning?"
   ]
  },
  {
   "cell_type": "code",
   "execution_count": 10,
   "metadata": {
    "slideshow": {
     "slide_type": "slide"
    }
   },
   "outputs": [
    {
     "data": {
      "image/png": "[encoded data removed]",
      "text/plain": [
       "<Figure size 600x300 with 1 Axes>"
      ]
     },
     "metadata": {},
     "output_type": "display_data"
    }
   ],
   "source": [
    "dfc = df[(df[\"device\"] == \"CPU\")]\n",
    "fig, ax = plt.subplots(figsize=(6, 3))\n",
    "for hidden_layers, dfl in dfc.groupby(\"hidden_layers\"):\n",
    "    ax.plot(\n",
    "        dfl[\"hidden_units\"],\n",
    "        dfl[\"accuracy\"] * 100,\n",
    "        label=f\"{hidden_layers} layers\",\n",
    "        color=colors[hidden_layers],\n",
    "    )\n",
    "ax.set_xlabel(\"Hidden Units\")\n",
    "ax.set_ylabel(\"Accuracy [%]\")\n",
    "net_widths = dfl[\"hidden_units\"]\n",
    "ax.set_xscale(\"log\", base=2)\n",
    "ax.set_xticks(net_widths)\n",
    "ax.set_xticklabels(net_widths)\n",
    "l= ax.legend()"
   ]
  },
  {
   "cell_type": "markdown",
   "metadata": {},
   "source": [
    "* Average accuracy increases with network width \n",
    "* Deeper model performs significantly worse than shallower model\n",
    "* Explanation: additional ReLU layer increases gradient sparsity slowing convergence "
   ]
  }
 ],
 "metadata": {
  "kernelspec": {
   "display_name": "Python 3 (ipykernel)",
   "language": "python",
   "name": "python3"
  },
  "language_info": {
   "codemirror_mode": {
    "name": "ipython",
    "version": 3
   },
   "file_extension": ".py",
   "mimetype": "text/x-python",
   "name": "python",
   "nbconvert_exporter": "python",
   "pygments_lexer": "ipython3",
   "version": "3.10.12"
  }
 },
 "nbformat": 4,
 "nbformat_minor": 4
}
