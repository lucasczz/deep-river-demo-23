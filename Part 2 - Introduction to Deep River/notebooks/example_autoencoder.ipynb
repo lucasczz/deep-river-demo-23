{
 "cells": [
  {
   "cell_type": "markdown",
   "metadata": {
    "collapsed": false,
    "jupyter": {
     "outputs_hidden": false
    }
   },
   "source": [
    "# Simple Fully Connected Autoencoder"
   ]
  },
  {
   "cell_type": "code",
   "execution_count": 12,
   "metadata": {
    "collapsed": false,
    "jupyter": {
     "outputs_hidden": false
    }
   },
   "outputs": [],
   "source": [
    "from river import compose, preprocessing, metrics, datasets\n",
    "\n",
    "from deep_river.anomaly import Autoencoder\n",
    "from torch import nn, manual_seed\n",
    "from pprint import pprint"
   ]
  },
  {
   "cell_type": "code",
   "execution_count": 16,
   "metadata": {
    "collapsed": false,
    "jupyter": {
     "outputs_hidden": false
    }
   },
   "outputs": [
    {
     "data": {
      "text/plain": [
       "Credit card frauds.\n",
       "\n",
       "The datasets contains transactions made by credit cards in September 2013 by european\n",
       "cardholders. This dataset presents transactions that occurred in two days, where we have 492\n",
       "frauds out of 284,807 transactions. The dataset is highly unbalanced, the positive class\n",
       "(frauds) account for 0.172% of all transactions.\n",
       "\n",
       "It contains only numerical input variables which are the result of a PCA transformation.\n",
       "Unfortunately, due to confidentiality issues, we cannot provide the original features and more\n",
       "background information about the data. Features V1, V2, ... V28 are the principal components\n",
       "obtained with PCA, the only features which have not been transformed with PCA are 'Time' and\n",
       "'Amount'. Feature 'Time' contains the seconds elapsed between each transaction and the first\n",
       "transaction in the dataset. The feature 'Amount' is the transaction Amount, this feature can be\n",
       "used for example-dependant cost-senstive learning. Feature 'Class' is the response variable and\n",
       "it takes value 1 in case of fraud and 0 otherwise.\n",
       "\n",
       "      Name  CreditCard                                                     \n",
       "      Task  Binary classification                                          \n",
       "   Samples  284,807                                                        \n",
       "  Features  30                                                             \n",
       "    Sparse  False                                                          \n",
       "      Path  /Users/kulbach/river_data/CreditCard/creditcard.csv            \n",
       "       URL  https://maxhalford.github.io/files/datasets/creditcardfraud.zip\n",
       "      Size  143.84 MB                                                      \n",
       "Downloaded  True                                                           "
      ]
     },
     "execution_count": 16,
     "metadata": {},
     "output_type": "execute_result"
    }
   ],
   "source": [
    "dataset = datasets.CreditCard()\n",
    "dataset"
   ]
  },
  {
   "cell_type": "code",
   "execution_count": 18,
   "metadata": {},
   "outputs": [
    {
     "name": "stdout",
     "output_type": "stream",
     "text": [
      "{'Amount': 149.62,\n",
      " 'Time': 0.0,\n",
      " 'V1': -1.3598071336738,\n",
      " 'V10': 0.0907941719789316,\n",
      " 'V11': -0.551599533260813,\n",
      " 'V12': -0.617800855762348,\n",
      " 'V13': -0.991389847235408,\n",
      " 'V14': -0.311169353699879,\n",
      " 'V15': 1.46817697209427,\n",
      " 'V16': -0.470400525259478,\n",
      " 'V17': 0.207971241929242,\n",
      " 'V18': 0.0257905801985591,\n",
      " 'V19': 0.403992960255733,\n",
      " 'V2': -0.0727811733098497,\n",
      " 'V20': 0.251412098239705,\n",
      " 'V21': -0.018306777944153,\n",
      " 'V22': 0.277837575558899,\n",
      " 'V23': -0.110473910188767,\n",
      " 'V24': 0.0669280749146731,\n",
      " 'V25': 0.128539358273528,\n",
      " 'V26': -0.189114843888824,\n",
      " 'V27': 0.133558376740387,\n",
      " 'V28': -0.0210530534538215,\n",
      " 'V3': 2.53634673796914,\n",
      " 'V4': 1.37815522427443,\n",
      " 'V5': -0.338320769942518,\n",
      " 'V6': 0.462387777762292,\n",
      " 'V7': 0.239598554061257,\n",
      " 'V8': 0.0986979012610507,\n",
      " 'V9': 0.363786969611213}\n",
      "Fraud: 0\n"
     ]
    }
   ],
   "source": [
    "for x, y in dataset:\n",
    "    pprint(x)\n",
    "    print(f'Fraud: {y}')\n",
    "    break"
   ]
  },
  {
   "cell_type": "code",
   "execution_count": 15,
   "metadata": {
    "collapsed": false,
    "jupyter": {
     "outputs_hidden": false
    }
   },
   "outputs": [
    {
     "data": {
      "text/html": [
       "<div><div class=\"river-component river-pipeline\"><details class=\"river-component river-estimator\"><summary class=\"river-summary\"><pre class=\"river-estimator-name\">MinMaxScaler</pre></summary><code class=\"river-estimator-params\">MinMaxScaler ()\n",
       "</code></details><details class=\"river-component river-estimator\"><summary class=\"river-summary\"><pre class=\"river-estimator-name\">Autoencoder</pre></summary><code class=\"river-estimator-params\">Autoencoder (\n",
       "  module=None\n",
       "  loss_fn=\"mse_loss\"\n",
       "  optimizer_fn=&lt;class 'torch.optim.sgd.SGD'&gt;\n",
       "  lr=0.005\n",
       "  device=\"cpu\"\n",
       "  seed=42\n",
       ")\n",
       "</code></details></div><style scoped>\n",
       ".river-estimator {\n",
       "    padding: 1em;\n",
       "    border-style: solid;\n",
       "    background: white;\n",
       "    max-width: max-content;\n",
       "}\n",
       "\n",
       ".river-pipeline {\n",
       "    display: flex;\n",
       "    flex-direction: column;\n",
       "    align-items: center;\n",
       "    background: linear-gradient(#000, #000) no-repeat center / 1.5px 100%;\n",
       "}\n",
       "\n",
       ".river-union {\n",
       "    display: flex;\n",
       "    flex-direction: row;\n",
       "    align-items: center;\n",
       "    justify-content: center;\n",
       "    padding: 1em;\n",
       "    border-style: solid;\n",
       "    background: white;\n",
       "}\n",
       "\n",
       ".river-wrapper {\n",
       "    display: flex;\n",
       "    flex-direction: column;\n",
       "    align-items: center;\n",
       "    justify-content: center;\n",
       "    padding: 1em;\n",
       "    border-style: solid;\n",
       "    background: white;\n",
       "}\n",
       "\n",
       ".river-wrapper > .river-estimator {\n",
       "    margin-top: 1em;\n",
       "}\n",
       "\n",
       "/* Vertical spacing between steps */\n",
       "\n",
       ".river-component + .river-component {\n",
       "    margin-top: 2em;\n",
       "}\n",
       "\n",
       ".river-union > .river-estimator {\n",
       "    margin-top: 0;\n",
       "}\n",
       "\n",
       ".river-union > .river-component {\n",
       "    margin-top: 0;\n",
       "}\n",
       "\n",
       ".river-union > .pipeline {\n",
       "    margin-top: 0;\n",
       "}\n",
       "\n",
       "/* Spacing within a union of estimators */\n",
       "\n",
       ".river-union > .river-component + .river-component {\n",
       "    margin-left: 1em;\n",
       "}\n",
       "\n",
       "/* Typography */\n",
       "\n",
       ".river-estimator-params {\n",
       "    display: block;\n",
       "    white-space: pre-wrap;\n",
       "    font-size: 110%;\n",
       "    margin-top: 1em;\n",
       "}\n",
       "\n",
       ".river-estimator > .river-estimator-params,\n",
       ".river-wrapper > .river-details > river-estimator-params {\n",
       "    background-color: white !important;\n",
       "}\n",
       "\n",
       ".river-wrapper > .river-details {\n",
       "    margin-bottom: 1em;\n",
       "}\n",
       "\n",
       ".river-estimator-name {\n",
       "    display: inline;\n",
       "    margin: 0;\n",
       "    font-size: 110%;\n",
       "}\n",
       "\n",
       "/* Toggle */\n",
       "\n",
       ".river-summary {\n",
       "    display: flex;\n",
       "    align-items:center;\n",
       "    cursor: pointer;\n",
       "}\n",
       "\n",
       ".river-summary > div {\n",
       "    width: 100%;\n",
       "}\n",
       "</style></div>"
      ],
      "text/plain": [
       "Pipeline (\n",
       "  MinMaxScaler (),\n",
       "  Autoencoder (\n",
       "    module=None\n",
       "    loss_fn=\"mse_loss\"\n",
       "    optimizer_fn=<class 'torch.optim.sgd.SGD'>\n",
       "    lr=0.005\n",
       "    device=\"cpu\"\n",
       "    seed=42\n",
       "  )\n",
       ")"
      ]
     },
     "execution_count": 15,
     "metadata": {},
     "output_type": "execute_result"
    }
   ],
   "source": [
    "_ = manual_seed(42)\n",
    "dataset = datasets.CreditCard().take(5000)\n",
    "metric = metrics.ROCAUC(n_thresholds=50)\n",
    "\n",
    "class MyAutoEncoder(nn.Module):\n",
    "    def __init__(self, n_features, latent_dim=3):\n",
    "        super(MyAutoEncoder, self).__init__()\n",
    "        self.linear1 = nn.Linear(n_features, latent_dim)\n",
    "        self.nonlin = nn.LeakyReLU()\n",
    "        self.linear2 = nn.Linear(latent_dim, n_features)\n",
    "        self.sigmoid = nn.Sigmoid()\n",
    "\n",
    "    def forward(self, X, **kwargs):\n",
    "        X = self.linear1(X)\n",
    "        X = self.nonlin(X)\n",
    "        X = self.linear2(X)\n",
    "        return self.sigmoid(X)\n",
    "\n",
    "model_pipeline = compose.Pipeline(\n",
    "    preprocessing.MinMaxScaler(),\n",
    "    Autoencoder(module=MyAutoEncoder, lr=0.005)\n",
    ")\n",
    "model_pipeline"
   ]
  },
  {
   "cell_type": "code",
   "execution_count": 3,
   "metadata": {
    "collapsed": false,
    "jupyter": {
     "outputs_hidden": false
    }
   },
   "outputs": [
    {
     "name": "stdout",
     "output_type": "stream",
     "text": [
      "ROCAUC: 0.7447\n"
     ]
    }
   ],
   "source": [
    "for x, y in dataset:\n",
    "    score = model_pipeline.score_one(x)\n",
    "    metric.update(y_true=y, y_pred=score)\n",
    "    model_pipeline.learn_one(x=x)\n",
    "print(f\"ROCAUC: {metric.get():.4f}\")"
   ]
  }
 ],
 "metadata": {
  "kernelspec": {
   "display_name": "Python 3 (ipykernel)",
   "language": "python",
   "name": "python3"
  },
  "language_info": {
   "codemirror_mode": {
    "name": "ipython",
    "version": 3
   },
   "file_extension": ".py",
   "mimetype": "text/x-python",
   "name": "python",
   "nbconvert_exporter": "python",
   "pygments_lexer": "ipython3",
   "version": "3.11.5"
  },
  "vscode": {
   "interpreter": {
    "hash": "588c5aed37ac83ab820db8800694f2ee474f3b87874329a77c5b9c85c1eac9fa"
   }
  }
 },
 "nbformat": 4,
 "nbformat_minor": 4
}
