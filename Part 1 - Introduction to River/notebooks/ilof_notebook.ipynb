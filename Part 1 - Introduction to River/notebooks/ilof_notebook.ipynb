{
 "cells": [
  {
   "attachments": {},
   "cell_type": "markdown",
   "metadata": {
    "pycharm": {
     "name": "#%% md\n"
    }
   },
   "source": [
    "# Incremental Local Outlier factor\n",
    "\n",
    "##### Created by: Pietro TANURE ONNIS\n",
    "##### Final project for the Online Machine Learning course at Telecom Paris 2023\n",
    "\n",
    "The Incremental Local Outlier Factor (ILOF) is an online version of the Local Outlier Factor (LOF) used to identify outliers based on density of local neighbors.\n",
    "\n",
    "We consider: \n",
    "\n",
    "    - NewPoints: new points; \n",
    "    - kNN(p): the neighboors of p (the k closest points to p)\n",
    "    - RkNN(p): the rev-neighboors of p (points that have p as one of their neighboors)\n",
    "    - Set_upd_lrd: Set of points that need to update the local reachability distance\n",
    "    - Set_upd_lof: Set of points that need to update the local outlier factor\n",
    "\n",
    "The algorithm here implemented based on the original one in the paper is:\n",
    "\n",
    "    1) Insert NewPoints and calculate its distance to existing points\n",
    "    2) Update the neighboors and reverse-neighboors of all the points\n",
    "    3) Define sets of affected points that required update\n",
    "    4) Calculate the reachability-distance from new point to neighboors (NewPoints -> kNN(NewPoints)) and from rev-neighboors to new point (RkNN(NewPoints) -> NewPoints)\n",
    "    5) Update the reachability-distance for affected points: RkNN(RkNN(NewPoints)) -> RkNN(NewPoints)\n",
    "    6) Update local reachability distance of affected points: lrd(Set_upd_lrd)\n",
    "    7) Update local outlier factor: lof(Set_upd_lof)\n",
    "\n",
    "Reference: Pokrajac, David & Lazarevic, Aleksandar & Latecki, Longin Jan. (2007). Incremental Local Outlier Detection for Data Streams. Proceedings of the 2007 IEEE Symposium on Computational Intelligence and Data Mining, CIDM 2007. 504-515. 10.1109/CIDM.2007.368917. \n",
    "\n",
    "![Screenshot from 2023-06-08 10-01-42.png](<attachment:Screenshot from 2023-06-08 10-01-42.png>)"
   ]
  },
  {
   "cell_type": "markdown",
   "metadata": {
    "pycharm": {
     "name": "#%% md\n"
    }
   },
   "source": [
    "## Generate data with some outliers\n",
    "\n",
    "We create an artifical data centered around two cluster and add some data made from another distribuition (outliers)"
   ]
  },
  {
   "cell_type": "code",
   "execution_count": 1,
   "metadata": {
    "pycharm": {
     "name": "#%%\n"
    }
   },
   "outputs": [
    {
     "data": {
      "image/png": "[encoded data removed]",
      "text/plain": [
       "<Figure size 432x288 with 1 Axes>"
      ]
     },
     "metadata": {
      "needs_background": "light"
     },
     "output_type": "display_data"
    }
   ],
   "source": [
    "import numpy as np\n",
    "import matplotlib.pyplot as plt\n",
    "\n",
    "np.random.seed(42)\n",
    "\n",
    "# Generate train data\n",
    "X_inliers = 0.5 * np.random.randn(100, 2)\n",
    "X_inliers = np.r_[X_inliers + 2, X_inliers - 2]\n",
    "\n",
    "# Generate some outliers\n",
    "X_outliers = np.random.uniform(low=-4, high=4, size=(20, 2))\n",
    "X = np.r_[X_inliers, X_outliers]\n",
    "\n",
    "n_outliers = len(X_outliers)\n",
    "ground_truth = np.ones(len(X), dtype=int)\n",
    "ground_truth[-n_outliers:] = -1\n",
    "\n",
    "#Visualize data\n",
    "plt.title(\"Data with Outliers\")\n",
    "plt.scatter(X[:, 0], X[:, 1], color=\"k\", s=3.0, label=\"Data points\")\n",
    "plt.axis(\"tight\")\n",
    "plt.xlim((-5, 5))\n",
    "plt.ylim((-5, 5))\n",
    "plt.show()"
   ]
  },
  {
   "cell_type": "markdown",
   "metadata": {
    "pycharm": {
     "name": "#%% md\n"
    }
   },
   "source": [
    "## Online Machine Learning with River\n",
    "\n",
    "Using the built class ILOF we calculte the Local Outlier Factor in an online approach, at each step we send an instance of data to the model, that will learn it using the 'learn_one' function, updating the model incrementally. \n",
    "\n",
    "The class ILOF takes in the following argumetns: \n",
    "\n",
    "ILOF(*k_neighbors = int; batch_size = int; verbose = boolean; distance_func = function*)\n",
    "\n",
    "\n",
    "Function to learn batch of data: \n",
    "\n",
    "learn_one(*x: dictionary*)\n"
   ]
  },
  {
   "cell_type": "code",
   "execution_count": 3,
   "metadata": {
    "pycharm": {
     "name": "#%%\n"
    }
   },
   "outputs": [],
   "source": [
    "from river import anomaly\n",
    "from river import utils\n",
    "\n",
    "#Convert to dictionary\n",
    "Xdicts = tuple({f'feature_{i+1}': x[i] for i in range(2)} for x in X)\n",
    "\n",
    "#Define model\n",
    "k = 20 #k-neighboors\n",
    "ilof_river = anomaly.LocalOutlierFactor(k)\n",
    "\n",
    "#Fit model on stream data\n",
    "for x in Xdicts:\n",
    "    ilof_river.learn_one(x)\n",
    "\n",
    "lof_scores_river = np.array([v for v in ilof_river.lof.values()])"
   ]
  },
  {
   "cell_type": "markdown",
   "metadata": {
    "pycharm": {
     "name": "#%% md\n"
    }
   },
   "source": [
    "We can also evaluate data without adding learning it, this way the programme outputs a LOF for the data but doesn't update the parameters of the model (neighborhoods, reverse neighborhoods, k-distances, reachability-distances, local outlier factor).\n",
    "\n",
    "The learn_one function can take in the following arguments:\n",
    "*learn_one(k_neighbors, batch_size, verbose, distance_func)*"
   ]
  },
  {
   "cell_type": "code",
   "execution_count": 4,
   "metadata": {
    "pycharm": {
     "name": "#%%\n"
    }
   },
   "outputs": [
    {
     "name": "stdout",
     "output_type": "stream",
     "text": [
      "[2.2478867667576443, 2.775368063034741, 4.374571799864662, 2.6430988384266723, 6.6706537933453065, 1.2508050527375532, 1.8065914215429744, 1.0566467424434673, 2.217171414327415, 3.2099495170323697]\n"
     ]
    }
   ],
   "source": [
    "#Evaluate data without updating the model\n",
    "X_score = np.random.uniform(low=-4, high=4, size=(10, 2))\n",
    "\n",
    "X_score_dict = tuple({f'feature_{i+1}': x[i] for i in range(2)} for x in X_score)\n",
    "\n",
    "lof_score = []\n",
    "for x in X_score_dict:\n",
    "    lof_score.append(ilof_river.score_one(x))\n",
    "\n",
    "print(lof_score)"
   ]
  },
  {
   "cell_type": "markdown",
   "metadata": {
    "pycharm": {
     "name": "#%% md\n"
    }
   },
   "source": [
    "## Batch Machine Learning with Scikit-learn\n",
    "\n",
    "To compare our results we fit a model with the same data using scikit-learn\n",
    "\n"
   ]
  },
  {
   "cell_type": "code",
   "execution_count": 5,
   "metadata": {
    "pycharm": {
     "name": "#%%\n"
    }
   },
   "outputs": [],
   "source": [
    "import matplotlib.pyplot as plt\n",
    "from sklearn.neighbors import LocalOutlierFactor\n",
    "\n",
    "#Define the model\n",
    "lof_scikit = LocalOutlierFactor(n_neighbors=k)\n",
    "\n",
    "#Fit model on data\n",
    "lof_scikit.fit_predict(X)\n",
    "\n",
    "#Get Local Outlier Factor\n",
    "lof_scores_scikit = - lof_scikit.negative_outlier_factor_"
   ]
  },
  {
   "cell_type": "markdown",
   "metadata": {
    "pycharm": {
     "name": "#%% md\n"
    }
   },
   "source": [
    "## Plot results\n",
    "\n",
    "We observe that both the online river approach (river) and the batch approach (sklearn) give the same results, but the online has the advantage of being adapted to treat data streams"
   ]
  },
  {
   "cell_type": "code",
   "execution_count": 6,
   "metadata": {
    "pycharm": {
     "name": "#%%\n"
    }
   },
   "outputs": [
    {
     "data": {
      "image/png": "[encoded data removed]",
      "text/plain": [
       "<Figure size 720x360 with 2 Axes>"
      ]
     },
     "metadata": {
      "needs_background": "light"
     },
     "output_type": "display_data"
    },
    {
     "name": "stdout",
     "output_type": "stream",
     "text": [
      "We observe that the difference is at machine error level:\n"
     ]
    },
    {
     "data": {
      "text/plain": [
       "array([-2.60569344e-12, -3.50888207e-11,  6.61048993e-12, -6.14255313e-11,\n",
       "        7.53430651e-12,  6.07425221e-12, -3.62345709e-11, -4.60118610e-11,\n",
       "       -6.21835916e-12, -3.80926402e-11, -4.98936448e-11, -1.69926295e-11,\n",
       "        8.81750228e-12, -6.99884595e-12,  8.68694006e-12, -8.65281180e-11,\n",
       "       -5.66724445e-12, -2.19111396e-11, -3.83739707e-11, -1.70645720e-11,\n",
       "       -1.67412750e-11,  8.32522939e-12, -3.39548389e-11, -1.64406266e-11,\n",
       "       -3.16771054e-11,  2.73259193e-12,  3.92341715e-12, -3.24860139e-11,\n",
       "        4.30699920e-12, -1.38866696e-11,  1.08247855e-11, -3.95599109e-11,\n",
       "       -2.70570233e-11, -2.83240098e-12, -2.26041408e-13, -3.21382920e-11,\n",
       "       -4.23505675e-11, -2.34301467e-10,  1.01505471e-11, -4.36293224e-11,\n",
       "        1.42366119e-11, -5.70217207e-11, -2.16493490e-12, -3.00015568e-11,\n",
       "        3.24718030e-12, -4.18842738e-12,  6.79811762e-12, -2.37632136e-11,\n",
       "        3.38062911e-13,  8.39273095e-12, -2.38511433e-11,  2.04958273e-12,\n",
       "        1.39357414e-11, -9.02977693e-11,  6.68931577e-12, -7.66167130e-11,\n",
       "       -1.15149001e-10,  1.52677870e-11, -1.28936861e-11, -4.45576909e-11,\n",
       "       -1.90152338e-11, -5.07007769e-11, -7.98576760e-11, -1.69673164e-11,\n",
       "        7.19779791e-12, -2.83075785e-11, -7.48956452e-12, -6.92004232e-11,\n",
       "        6.97453206e-12, -2.21163088e-11, -2.99167358e-11, -3.65716346e-11,\n",
       "       -1.19149135e-12, -5.94160277e-11, -6.10422823e-12,  2.17781349e-12,\n",
       "        3.11028980e-12,  3.52051721e-13, -8.74829098e-11, -1.85937932e-11,\n",
       "       -1.51545443e-11, -4.92623720e-11, -3.01902947e-11, -5.70297143e-11,\n",
       "        6.10378414e-12, -2.20738983e-11,  1.38238310e-11, -6.98952007e-12,\n",
       "       -3.35060868e-11, -1.65686131e-10, -1.50524038e-11, -7.86504195e-12,\n",
       "        1.16275878e-11, -2.25097718e-12, -3.13913340e-11,  1.27264865e-12,\n",
       "       -1.40329970e-11,  6.49014176e-12, -4.43489689e-12, -1.36093359e-11,\n",
       "       -1.24766864e-12, -3.70403708e-11,  7.06612546e-12, -6.95021818e-11,\n",
       "        6.74083012e-12,  6.97675251e-12, -4.07052170e-11, -4.89059904e-11,\n",
       "       -5.53357360e-12, -3.83555410e-11, -4.69311257e-11, -1.68316472e-11,\n",
       "        6.96986913e-12, -8.37308001e-12,  8.81361650e-12, -8.53790372e-11,\n",
       "       -9.40025835e-12, -2.60549360e-11, -4.33697522e-11, -1.68103309e-11,\n",
       "       -1.43360879e-11,  8.85924667e-12, -4.02802236e-11, -1.86450855e-11,\n",
       "       -3.11433102e-11,  3.62998520e-12,  3.51763063e-12, -3.59190455e-11,\n",
       "        2.01061390e-13, -1.15931709e-11,  1.05626619e-11, -4.12014867e-11,\n",
       "       -3.09989812e-11, -3.95428135e-12, -2.58659760e-12, -3.90354415e-11,\n",
       "       -4.30451230e-11, -2.18204566e-10,  1.07850395e-11, -4.52369253e-11,\n",
       "        1.52229340e-11, -5.55873125e-11, -6.33004760e-12, -3.35005357e-11,\n",
       "        2.65565347e-12, -4.19453361e-12,  3.75610654e-12, -2.69864131e-11,\n",
       "        7.87259147e-13,  9.21873688e-12, -2.61892730e-11,  2.82951440e-12,\n",
       "        1.33375533e-11, -9.97062433e-11,  8.49664783e-12, -7.14766024e-11,\n",
       "       -1.11344045e-10,  1.46629375e-11, -1.55275792e-11, -4.62627714e-11,\n",
       "       -2.01958450e-11, -6.59943211e-11, -8.57767191e-11, -2.01283434e-11,\n",
       "        6.12965234e-12, -2.65012456e-11, -9.02100616e-12, -7.01889658e-11,\n",
       "        4.77973217e-12, -2.61093369e-11, -3.30329097e-11, -3.41178197e-11,\n",
       "       -1.46660462e-13, -6.19528873e-11, -4.98201480e-12,  2.51609844e-12,\n",
       "        3.99846822e-12, -2.17981189e-12, -9.47746326e-11, -2.29336550e-11,\n",
       "       -1.94242400e-11, -5.44388978e-11, -3.30879768e-11, -5.27782262e-11,\n",
       "        4.88142859e-12, -2.47566412e-11,  1.38068446e-11, -4.13868939e-12,\n",
       "       -4.13618029e-11, -1.55854440e-10, -1.66029412e-11, -9.54325508e-12,\n",
       "        1.07446274e-11, -1.92179606e-13, -3.77331499e-11, -1.02640119e-12,\n",
       "       -1.72075687e-11,  6.75914880e-12, -4.67781369e-12, -1.62407865e-11,\n",
       "       -8.99351704e-11, -2.03896899e-11, -8.17390600e-11, -2.73212564e-11,\n",
       "       -1.62232228e-10, -4.43422188e-10, -2.77693424e-11,  1.86894944e-12,\n",
       "       -7.23011873e-10, -2.08910222e-10, -5.49860601e-10, -3.91202626e-10,\n",
       "       -3.75339759e-10, -5.67128566e-10, -7.04150516e-10, -4.31385594e-10,\n",
       "       -5.56604540e-10, -5.31734656e-10, -6.03933348e-10, -3.67534447e-10])"
      ]
     },
     "execution_count": 6,
     "metadata": {},
     "output_type": "execute_result"
    }
   ],
   "source": [
    "from river.utils import dict2numpy\n",
    "X_scores1 = lof_scores_scikit\n",
    "X_scores2 = lof_scores_river\n",
    "\n",
    "fig, axs = plt.subplots(ncols=2, figsize=(10, 5))\n",
    "\n",
    "# First plot\n",
    "radius1 = (X_scores1.max() - X_scores1) / (X_scores1.max() - X_scores1.min()) * (X_scores1 > 1.5)\n",
    "axs[0].set_title(\"Local Outlier Factor - Sklearn \")\n",
    "axs[0].scatter(X[:, 0], X[:, 1], color=\"k\", s=3.0, label=\"Data points\")\n",
    "axs[0].axis(\"tight\")\n",
    "axs[0].set_xlim((-5, 5))\n",
    "axs[0].set_ylim((-5, 5))\n",
    "axs[0].scatter(X[:, 0], X[:, 1], s=1000 * radius1, edgecolors=\"r\", facecolors=\"none\", label=\"Outlier scores\")\n",
    "axs[0].legend(loc=\"upper left\")\n",
    "\n",
    "# Second plot\n",
    "radius2 = (max(X_scores2) - X_scores2) / (max(X_scores2) - min(X_scores2)) * (X_scores2 > 1.5)\n",
    "axs[1].set_title(\"Incremental Local Outlier Factor - River\")\n",
    "axs[1].scatter(X[:, 0], X[:, 1], color=\"k\", s=3.0, label=\"Data points\")\n",
    "axs[1].axis(\"tight\")\n",
    "axs[1].set_xlim((-5, 5))\n",
    "axs[1].set_ylim((-5, 5))\n",
    "axs[1].scatter(X[:, 0], X[:, 1], s=1000 * radius2, edgecolors=\"r\", facecolors=\"none\", label=\"Outlier scores\")\n",
    "axs[1].legend(loc=\"upper left\")\n",
    "\n",
    "plt.show()\n",
    "\n",
    "print('We observe that the difference is at machine error level:')\n",
    "X_scores1 - X_scores2"
   ]
  },
  {
   "cell_type": "markdown",
   "metadata": {
    "pycharm": {
     "name": "#%% md\n"
    }
   },
   "source": [
    "## Time comparison\n",
    "\n",
    "Although not adapted to a batch approach River ILOF also allows to calculate a mini-batch approach using the function 'learn_many', here we compare the time of execution of ScikitLOF and RiverILOF considering both receiving a *batch_size*  number of data points:\n",
    "\n",
    "ScikitLOF has applies methods like tree search that optimize the search for neighboors so its execution time remains more of less constant"
   ]
  },
  {
   "cell_type": "code",
   "execution_count": null,
   "metadata": {
    "pycharm": {
     "name": "#%%\n"
    }
   },
   "outputs": [],
   "source": [
    "from river import datasets\n",
    "import pandas as pd\n",
    "from river.utils import dict2numpy\n",
    "import time \n",
    "dataset = pd.DataFrame(datasets.CreditCard())\n",
    "dataset_np = [dict2numpy(i) for i in dataset[0].to_dict().values()]"
   ]
  },
  {
   "cell_type": "code",
   "execution_count": null,
   "metadata": {
    "pycharm": {
     "name": "#%%\n"
    }
   },
   "outputs": [],
   "source": [
    "batch_sizes = [20,50,100,200,400,1000]\n",
    "\n",
    "time_river = []\n",
    "time_scikit = []\n",
    "for batch_size in batch_sizes:\n",
    "    #River\n",
    "    start_time_r = time.time()\n",
    "    ilof_river2 = ilof.ILOF(k, verbose=False)\n",
    "    ilof_river2.learn_many(dataset[0:batch_size])\n",
    "    time_river.append(time.time() - start_time_r)\n",
    "    ilof_scores_river2 = np.array([v for v in ilof_river2.lof.values()])\n",
    "\n",
    "    #Scikit\n",
    "    start_time_s = time.time()\n",
    "    lof_scikit2 = LocalOutlierFactor(n_neighbors=k)\n",
    "    lof_scikit2.fit_predict(dataset_np[0:batch_size])\n",
    "    time_scikit.append(time.time() - start_time_s)\n",
    "    lof_scores_scikit2 = - lof_scikit2.negative_outlier_factor_\n",
    "\n",
    "#Compare\n",
    "print('We observe again that the error is of machine precision level: \\\n",
    "    (the few errors at the scale of e-05 are because of the river minkowski-distance function error, \\\n",
    "    I submitted a correction request, for details see bottom of this document  ')\n",
    "ilof_scores_river2 - lof_scores_scikit2"
   ]
  },
  {
   "cell_type": "code",
   "execution_count": null,
   "metadata": {
    "pycharm": {
     "name": "#%%\n"
    }
   },
   "outputs": [],
   "source": [
    "import matplotlib.pyplot as plt\n",
    "# Plotting the bar graph\n",
    "plt.bar(np.array(range(len(time_river)))*1.5+0.25, time_river, width=0.4, label='River ILOF')\n",
    "plt.bar(np.array(range(len(time_river)))*1.5-0.25, time_scikit, width=0.4, label='Scikit LOF')\n",
    "plt.xticks(np.array(range(len(time_river)))*1.5, batch_sizes)\n",
    "plt.xlabel('Batch size')\n",
    "plt.ylabel('Execution Time (seconds)')\n",
    "plt.title('Mini-batch mode Time Comparison')\n",
    "plt.yscale('log')\n",
    "plt.legend()\n",
    "plt.show()"
   ]
  },
  {
   "cell_type": "code",
   "execution_count": null,
   "metadata": {
    "pycharm": {
     "name": "#%%\n"
    }
   },
   "outputs": [],
   "source": [
    "#Time to add new points on existing model with 1000 points\n",
    "#River\n",
    "time_r = []\n",
    "start_t_r = time.time()\n",
    "for x in dataset[0][1200:1300]:\n",
    "    ilof_river2.learn_one(x)\n",
    "time_r.append(time.time() - start_t_r)\n",
    "\n",
    "#Scikit\n",
    "time_s = []\n",
    "start_t_s = time.time()\n",
    "lof_scikit2.novelty = True\n",
    "lof_scores_scikit2 = lof_scikit2.score_samples(dataset_np[1200:1300])\n",
    "time_s.append(time.time() - start_t_s)\n",
    "\n",
    "print('RiverILOF time:', time_r,';  ScikitLOF time:', time_s, '\\n We observe that RiverILOF gets slower as the number of points learned increases,\\\n",
    "since it calculates the distance of the new point to all other ones each iteration.')"
   ]
  },
  {
   "cell_type": "code",
   "execution_count": null,
   "metadata": {
    "pycharm": {
     "name": "#%%\n"
    }
   },
   "outputs": [],
   "source": [
    "#River Minkowski_distance error\n",
    "\n",
    "import functools\n",
    "from river import utils\n",
    "#from river.neighbors.base import DistanceFunc\n",
    "from river.utils import VectorDict\n",
    "\n",
    "distancefunc = functools.partial(utils.math.minkowski_distance, p=2)\n",
    "a={1: 1.5, 2: 3.5}\n",
    "b={1: -0.7, 2: -10.3}\n",
    "print(((1.5+0.7)**2+(3.5+10.3)**2)**(1/2), distancefunc(a,b))"
   ]
  },
  {
   "cell_type": "code",
   "execution_count": null,
   "metadata": {
    "pycharm": {
     "name": "#%%\n"
    }
   },
   "outputs": [],
   "source": []
  }
 ],
 "metadata": {
  "kernelspec": {
   "display_name": "river",
   "language": "python",
   "name": "river"
  },
  "language_info": {
   "codemirror_mode": {
    "name": "ipython",
    "version": 3
   },
   "file_extension": ".py",
   "mimetype": "text/x-python",
   "name": "python",
   "nbconvert_exporter": "python",
   "pygments_lexer": "ipython3",
   "version": "3.9.12"
  },
  "vscode": {
   "interpreter": {
    "hash": "e7370f93d1d0cde622a1f8e1c04877d8463912d04d973331ad4851f04de6915a"
   }
  }
 },
 "nbformat": 4,
 "nbformat_minor": 2
}
